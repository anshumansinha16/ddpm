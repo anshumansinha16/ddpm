{
  "nbformat": 4,
  "nbformat_minor": 0,
  "metadata": {
    "colab": {
      "provenance": []
    },
    "kernelspec": {
      "name": "python3",
      "display_name": "Python 3"
    },
    "language_info": {
      "name": "python"
    }
  },
  "cells": [
    {
      "cell_type": "code",
      "source": [
        "pip install unet"
      ],
      "metadata": {
        "colab": {
          "base_uri": "https://localhost:8080/"
        },
        "id": "_8BpQ0clZOqO",
        "outputId": "cbcadf15-3055-491c-b6a1-cdb03644a4d9"
      },
      "execution_count": 1,
      "outputs": [
        {
          "output_type": "stream",
          "name": "stdout",
          "text": [
            "Looking in indexes: https://pypi.org/simple, https://us-python.pkg.dev/colab-wheels/public/simple/\n",
            "Collecting unet\n",
            "  Downloading unet-0.7.7-py2.py3-none-any.whl (8.1 kB)\n",
            "Requirement already satisfied: torch in /usr/local/lib/python3.10/dist-packages (from unet) (2.0.0+cu118)\n",
            "Requirement already satisfied: filelock in /usr/local/lib/python3.10/dist-packages (from torch->unet) (3.12.0)\n",
            "Requirement already satisfied: typing-extensions in /usr/local/lib/python3.10/dist-packages (from torch->unet) (4.5.0)\n",
            "Requirement already satisfied: sympy in /usr/local/lib/python3.10/dist-packages (from torch->unet) (1.11.1)\n",
            "Requirement already satisfied: networkx in /usr/local/lib/python3.10/dist-packages (from torch->unet) (3.1)\n",
            "Requirement already satisfied: jinja2 in /usr/local/lib/python3.10/dist-packages (from torch->unet) (3.1.2)\n",
            "Requirement already satisfied: triton==2.0.0 in /usr/local/lib/python3.10/dist-packages (from torch->unet) (2.0.0)\n",
            "Requirement already satisfied: cmake in /usr/local/lib/python3.10/dist-packages (from triton==2.0.0->torch->unet) (3.25.2)\n",
            "Requirement already satisfied: lit in /usr/local/lib/python3.10/dist-packages (from triton==2.0.0->torch->unet) (16.0.3)\n",
            "Requirement already satisfied: MarkupSafe>=2.0 in /usr/local/lib/python3.10/dist-packages (from jinja2->torch->unet) (2.1.2)\n",
            "Requirement already satisfied: mpmath>=0.19 in /usr/local/lib/python3.10/dist-packages (from sympy->torch->unet) (1.3.0)\n",
            "Installing collected packages: unet\n",
            "Successfully installed unet-0.7.7\n"
          ]
        }
      ]
    },
    {
      "cell_type": "code",
      "source": [
        "import torch\n",
        "import torch.nn as nn\n",
        "import math\n",
        "import matplotlib.pyplot as plt\n",
        "import numpy as np\n",
        "from unet import UNet"
      ],
      "metadata": {
        "id": "gjcDdpclW5EG"
      },
      "execution_count": 2,
      "outputs": []
    },
    {
      "cell_type": "code",
      "execution_count": 3,
      "metadata": {
        "id": "w4ZTrWILD8mY",
        "colab": {
          "base_uri": "https://localhost:8080/",
          "height": 53
        },
        "outputId": "f11bf9e3-bd40-461c-ce1c-1fb0d8bd85d2"
      },
      "outputs": [
        {
          "output_type": "execute_result",
          "data": {
            "text/plain": [
              "'\\nAt any arbitrary time-step we can write\\nx_t = sqrt(alpha_mean)*x0 + sqrt(1-alpha_mean)*epsilon\\n\\nmean = sqrt(a_hat_t)*x_0\\nvariance = sqrt(1-a_hat_t)*random_noise\\n\\nx_t = mean + variance\\n'"
            ],
            "application/vnd.google.colaboratory.intrinsic+json": {
              "type": "string"
            }
          },
          "metadata": {},
          "execution_count": 3
        }
      ],
      "source": [
        "'''\n",
        "At any arbitrary time-step we can write\n",
        "x_t = sqrt(alpha_mean)*x0 + sqrt(1-alpha_mean)*epsilon\n",
        "\n",
        "mean = sqrt(a_hat_t)*x_0\n",
        "variance = sqrt(1-a_hat_t)*random_noise\n",
        "\n",
        "x_t = mean + variance\n",
        "'''"
      ]
    },
    {
      "cell_type": "code",
      "source": [
        "# Random input\n",
        "\n",
        "x0 = torch.randn(2,3,32,32) # batch, channel, imgximg\n",
        "x0 = torch.randn(2,10) # batch, #feats\n",
        "\n",
        "# Variance schedule (linear) , forward process.\n",
        "\n",
        "betas = torch.tensor([0.005, 0.1, 0.15, 0.2, 0.25])\n",
        "\n",
        "# Timestep (we want to take x_t at t = 1 and t = 3)\n",
        "# Timestep corrospond to the batch size ?\n",
        "\n",
        "t = torch.tensor([1,3])"
      ],
      "metadata": {
        "id": "CQqVzg2-HHIi"
      },
      "execution_count": 4,
      "outputs": []
    },
    {
      "cell_type": "code",
      "source": [
        "# betas -> amounts of noise that are being applied at every timestep of the diffusion process.\n",
        "# alphas -> (1-betas) -> amount of original image's information that is being preserved. \n",
        "\n",
        "alphas = 1- betas\n",
        "alphas"
      ],
      "metadata": {
        "id": "wMDdXtF-HM22",
        "colab": {
          "base_uri": "https://localhost:8080/"
        },
        "outputId": "6f9c6911-3562-4ca3-c73a-569e3636bc1b"
      },
      "execution_count": 5,
      "outputs": [
        {
          "output_type": "execute_result",
          "data": {
            "text/plain": [
              "tensor([0.9950, 0.9000, 0.8500, 0.8000, 0.7500])"
            ]
          },
          "metadata": {},
          "execution_count": 5
        }
      ]
    },
    {
      "cell_type": "code",
      "source": [
        "# cummalative product\n",
        "alpha_hat = torch.cumprod(alphas,axis = 0) \n",
        "# alpha_hat = tensor([0.9950, 0.8955, 0.7612, 0.6089, 0.4567])\n",
        "# take out the values of alpha_hat that corrospond to the timesteps\n",
        "result = alpha_hat.gather(-1,t)\n",
        "# result = tensor([0.8955, 0.6089])\n",
        "# reshape to the dimmension of the input\n",
        "result = result.reshape(-1,1)\n",
        "# result = tensor([[0.8955],[0.6089]])"
      ],
      "metadata": {
        "id": "1UBZuJgaJwnx"
      },
      "execution_count": 6,
      "outputs": []
    },
    {
      "cell_type": "code",
      "source": [
        "noise = torch.rand_like(x0)\n",
        "mean = result.sqrt()*x0\n",
        "variance = torch.sqrt(1-result)*noise"
      ],
      "metadata": {
        "id": "BjbPP2nBKX-6"
      },
      "execution_count": 7,
      "outputs": []
    },
    {
      "cell_type": "code",
      "source": [
        "x_t = mean + variance\n",
        "\n",
        "# x_t will have 2 images\n",
        "# x_t[0] and x_t[1]\n",
        "# 1 at timestep 1 with less noise\n",
        "# and 2 at timestep 3 with more noise."
      ],
      "metadata": {
        "id": "O9LKESRXKmiT"
      },
      "execution_count": 8,
      "outputs": []
    },
    {
      "cell_type": "code",
      "source": [
        "def forward_diffusion(x0, t, betas = torch.linspace(0.0,1.0,40)):\n",
        "  noise = torch.rand_like(x0)\n",
        "  alphas = 1- betas\n",
        "  alpha_hat = torch.cumprod(alphas, axis = 0)\n",
        "  result = alpha_hat.gather(-1,t).reshape(-1,1)\n",
        "\n",
        "  mean = result.sqrt()*x0\n",
        "  variance = torch.sqrt(1-result)*noise\n",
        "  return mean +variance, noise"
      ],
      "metadata": {
        "id": "OR8hsNJkMsu0"
      },
      "execution_count": 9,
      "outputs": []
    },
    {
      "cell_type": "code",
      "source": [
        "class DiffusionModel:\n",
        "    def __init__(self, start_schedule=0.0001, end_schedule=0.02, timesteps = 300):\n",
        "        self.start_schedule = start_schedule\n",
        "        self.end_schedule = end_schedule\n",
        "        self.timesteps = timesteps\n",
        "        self.betas = torch.linspace(start_schedule, end_schedule, timesteps)\n",
        "        self.alphas = 1 - self.betas\n",
        "        self.alphas_cumprod = torch.cumprod(self.alphas, axis=0)\n",
        "        \n",
        "    def forward(self, x_0, t, device):\n",
        "   \n",
        "        noise = torch.randn_like(x_0)\n",
        "        sqrt_alphas_cumprod_t = self.get_index_from_list(self.alphas_cumprod.sqrt(), t, x_0.shape)\n",
        "        sqrt_one_minus_alphas_cumprod_t = self.get_index_from_list(torch.sqrt(1. - self.alphas_cumprod), t, x_0.shape)\n",
        "            \n",
        "        mean = sqrt_alphas_cumprod_t.to(device) * x_0.to(device)\n",
        "        variance = sqrt_one_minus_alphas_cumprod_t.to(device) * noise.to(device)\n",
        "        \n",
        "        return mean + variance, noise.to(device)\n",
        "      \n",
        "    @torch.no_grad()\n",
        "    def backward(self, x, t, model, **kwargs):\n",
        "        \"\"\"\n",
        "        Calls the model to predict the noise in the image and returns \n",
        "        the denoised image. \n",
        "        Applies noise to this image, if we are not in the last step yet.\n",
        "        \"\"\"\n",
        "  \n",
        "        betas_t = self.get_index_from_list(self.betas, t, x.shape)\n",
        "        sqrt_one_minus_alphas_cumprod_t = self.get_index_from_list(torch.sqrt(1. - self.alphas_cumprod), t, x.shape)\n",
        "        sqrt_recip_alphas_t = self.get_index_from_list(torch.sqrt(1.0 / self.alphas), t, x.shape)\n",
        "        mean = sqrt_recip_alphas_t * (x - betas_t * model(x, t, **kwargs)[0] / sqrt_one_minus_alphas_cumprod_t)\n",
        "        posterior_variance_t = betas_t\n",
        "\n",
        "        if t == 0:\n",
        "            return mean\n",
        "        else:\n",
        "            noise = torch.randn_like(x)\n",
        "            variance = torch.sqrt(posterior_variance_t) * noise \n",
        "            return mean + variance\n",
        "\n",
        "    @staticmethod\n",
        "    def get_index_from_list(values, t, x_shape):\n",
        "        batch_size = t.shape[0]\n",
        "        result = values.gather(-1, t.cpu())\n",
        "\n",
        "        return result.reshape(batch_size, *((1,) * (len(x_shape) - 1))).to(t.device)"
      ],
      "metadata": {
        "id": "xrXPlKzzbmK1"
      },
      "execution_count": 39,
      "outputs": []
    },
    {
      "cell_type": "code",
      "source": [
        "diffusion_model = DiffusionModel()"
      ],
      "metadata": {
        "id": "0f33EV9Ab5-D"
      },
      "execution_count": 41,
      "outputs": []
    },
    {
      "cell_type": "code",
      "source": [
        "inp = torch.randn(200)\n",
        "\n",
        "#t = torch.tensor([0,1,2,3,39])\n",
        "batch_images = torch.stack([inp]*5)"
      ],
      "metadata": {
        "id": "W-jNBt8dRnck"
      },
      "execution_count": 42,
      "outputs": []
    },
    {
      "cell_type": "code",
      "source": [
        "diffusion_model.timesteps"
      ],
      "metadata": {
        "colab": {
          "base_uri": "https://localhost:8080/"
        },
        "id": "0ug90MfRdP1F",
        "outputId": "33d3c850-ab2d-4a3f-91c6-c06b17be30c7"
      },
      "execution_count": 43,
      "outputs": [
        {
          "output_type": "execute_result",
          "data": {
            "text/plain": [
              "300"
            ]
          },
          "metadata": {},
          "execution_count": 43
        }
      ]
    },
    {
      "cell_type": "code",
      "source": [
        "NO_DISPLAY_IMAGES = 5\n",
        "device = 'cpu'\n",
        "t = torch.linspace(0, diffusion_model.timesteps - 1, NO_DISPLAY_IMAGES).long()\n",
        "noisy_image_batch, _ = diffusion_model.forward(batch_images, t, device)\n"
      ],
      "metadata": {
        "id": "t-0LHbWmb_Z1"
      },
      "execution_count": 44,
      "outputs": []
    },
    {
      "cell_type": "code",
      "source": [
        "noisy_image_batch.shape"
      ],
      "metadata": {
        "colab": {
          "base_uri": "https://localhost:8080/"
        },
        "id": "rCzNvL5_R7rv",
        "outputId": "0e48120f-ae18-41cb-8b63-d861863661ac"
      },
      "execution_count": 45,
      "outputs": [
        {
          "output_type": "execute_result",
          "data": {
            "text/plain": [
              "torch.Size([5, 200])"
            ]
          },
          "metadata": {},
          "execution_count": 45
        }
      ]
    },
    {
      "cell_type": "code",
      "source": [
        "t"
      ],
      "metadata": {
        "colab": {
          "base_uri": "https://localhost:8080/"
        },
        "id": "WR1MvM48eg2j",
        "outputId": "69193549-df6d-43fe-d02a-37299e584119"
      },
      "execution_count": 81,
      "outputs": [
        {
          "output_type": "execute_result",
          "data": {
            "text/plain": [
              "tensor([  0,  74, 149, 224, 299])"
            ]
          },
          "metadata": {},
          "execution_count": 81
        }
      ]
    },
    {
      "cell_type": "code",
      "source": [
        "for idx, image in enumerate(noisy_image_batch):\n",
        "  print(t[idx].item())"
      ],
      "metadata": {
        "colab": {
          "base_uri": "https://localhost:8080/"
        },
        "id": "90UNnULUeWBM",
        "outputId": "1c9fcaa7-d1ab-4ea4-8c38-fbfe26cd1ca9"
      },
      "execution_count": 16,
      "outputs": [
        {
          "output_type": "stream",
          "name": "stdout",
          "text": [
            "0\n",
            "74\n",
            "149\n",
            "224\n",
            "299\n"
          ]
        }
      ]
    },
    {
      "cell_type": "code",
      "source": [
        "class SinusoidalPositionEmbeddings(nn.Module):\n",
        "    def __init__(self, dim):\n",
        "        super().__init__()\n",
        "        self.dim = dim\n",
        "\n",
        "    def forward(self, time):\n",
        "        device = time.device\n",
        "        half_dim = self.dim // 2\n",
        "        embeddings = math.log(10000) / (half_dim - 1)\n",
        "        embeddings = torch.exp(torch.arange(half_dim, device=device) * -embeddings)\n",
        "        embeddings = time[:, None] * embeddings[None, :]\n",
        "        embeddings = torch.cat((embeddings.sin(), embeddings.cos()), dim=-1)\n",
        "        return embeddings"
      ],
      "metadata": {
        "id": "6jixo-f1exDC"
      },
      "execution_count": 17,
      "outputs": []
    },
    {
      "cell_type": "code",
      "source": [
        "embd = SinusoidalPositionEmbeddings(5)\n",
        "embd.forward(t)"
      ],
      "metadata": {
        "colab": {
          "base_uri": "https://localhost:8080/"
        },
        "id": "xDj1W4OORElQ",
        "outputId": "bcd01fe9-d8f4-4a41-ceb2-8bb273842a1e"
      },
      "execution_count": 18,
      "outputs": [
        {
          "output_type": "execute_result",
          "data": {
            "text/plain": [
              "tensor([[ 0.0000,  0.0000,  1.0000,  1.0000],\n",
              "        [-0.9851,  0.0074,  0.1717,  1.0000],\n",
              "        [-0.9746,  0.0149, -0.2237,  0.9999],\n",
              "        [-0.8116,  0.0224, -0.5842,  0.9997],\n",
              "        [-0.5216,  0.0299, -0.8532,  0.9996]])"
            ]
          },
          "metadata": {},
          "execution_count": 18
        }
      ]
    },
    {
      "cell_type": "code",
      "source": [
        "class Block(nn.Module):\n",
        "    def __init__(self, channels_in, channels_out, time_embedding_dims, labels, num_filters = 3, downsample=True):\n",
        "        super().__init__()\n",
        "\n",
        "        print('Im him')\n",
        "        \n",
        "        self.time_embedding_dims = time_embedding_dims\n",
        "        self.time_embedding = SinusoidalPositionEmbeddings(time_embedding_dims)\n",
        "        self.labels = labels\n",
        "        \n",
        "        if labels:\n",
        "            self.label_mlp = nn.Linear(1, channels_out)\n",
        "\n",
        "        self.downsample = downsample\n",
        "        \n",
        "        if downsample:\n",
        "            self.lin1 = nn.Linear(channels_in, channels_out)\n",
        "            self.final = nn.Linear(channels_out, channels_out)\n",
        "        else:\n",
        "            self.lin1 = nn.Linear(2*channels_in, channels_out)\n",
        "            self.final = nn.Linear(channels_out, channels_out)\n",
        "        \n",
        "        \n",
        "        self.lin2 = nn.Linear(channels_out, channels_out)\n",
        "\n",
        "\n",
        "        self.bnorm1 = nn.BatchNorm1d(channels_out)\n",
        "        self.bnorm2 = nn.BatchNorm1d(channels_out)\n",
        "        \n",
        "        self.time_mlp = nn.Linear(time_embedding_dims, channels_out)\n",
        "        self.relu = nn.ReLU()\n",
        "\n",
        "    def forward(self, x, t, **kwargs):\n",
        "\n",
        "        try:\n",
        "          o = self.bnorm1(self.relu(self.lin1(x)))\n",
        "        except:\n",
        "          o = self.relu(self.lin1(x))\n",
        "\n",
        "        o_time = self.relu(self.time_mlp(self.time_embedding(t)))\n",
        "\n",
        "        o = o + o_time\n",
        "        if self.labels:\n",
        "            label = kwargs.get('labels')\n",
        "            o_label = self.relu(self.label_mlp(label))\n",
        "            o = o + o_label\n",
        "   \n",
        "        try:\n",
        "          o = self.bnorm2(self.relu(self.lin2(o)))\n",
        "        except:\n",
        "          o = self.relu(self.lin2(o))\n",
        "\n",
        "        return self.final(o)\n"
      ],
      "metadata": {
        "id": "l0AaKtWUSSY4"
      },
      "execution_count": 46,
      "outputs": []
    },
    {
      "cell_type": "code",
      "source": [
        "class UNet(nn.Module):\n",
        "    def __init__(self, img_channels = 200, time_embedding_dims = 128, labels = False, sequence_channels = (64, 128, 256, 512)):\n",
        "        super().__init__()\n",
        "        \n",
        "        self.time_embedding_dims = time_embedding_dims\n",
        "        sequence_channels_rev = reversed(sequence_channels)\n",
        "        \n",
        "        self.downsampling = nn.ModuleList([Block(channels_in, channels_out, time_embedding_dims, labels) for channels_in, channels_out in zip(sequence_channels, sequence_channels[1:])])\n",
        "        self.upsampling = nn.ModuleList([Block(channels_in, channels_out, time_embedding_dims, labels,downsample=False) for channels_in, channels_out in zip(sequence_channels[::-1], sequence_channels[::-1][1:])])\n",
        "        \n",
        "        #self.conv1 = nn.Conv2d(img_channels, sequence_channels[0], 3, padding=1)\n",
        "        self.lin1 = nn.Linear(img_channels, sequence_channels[0])\n",
        "        #self.conv2 = nn.Conv2d(sequence_channels[0], img_channels, 1)\n",
        "        self.lin2 = nn.Linear(sequence_channels[0], img_channels)\n",
        "\n",
        "    \n",
        "    def forward(self, x, t, **kwargs):\n",
        "        residuals = []\n",
        "        o = self.lin1(x)\n",
        "        \n",
        "        for ds in self.downsampling:\n",
        "            o = ds(o, t, **kwargs)\n",
        "            residuals.append(o)\n",
        "        \n",
        "        for us, res in zip(self.upsampling, reversed(residuals)):\n",
        "            o = us(torch.cat((o, res), dim=1), t, **kwargs)   \n",
        "        \n",
        "        return self.lin2(o)"
      ],
      "metadata": {
        "id": "C65whP8hSgca"
      },
      "execution_count": 131,
      "outputs": []
    },
    {
      "cell_type": "code",
      "source": [
        "def kl_divergence(z, mu, std):\n",
        "    # --------------------------\n",
        "    # Monte carlo KL divergence\n",
        "    # --------------------------\n",
        "    # https://towardsdatascience.com/variational-autoencoder-demystified-with-pytorch-implementation-3a06bee395ed\n",
        "   \n",
        "    # 1. define the first two probabilities (in this case Normal for both)\n",
        "    p = torch.distributions.Normal(torch.zeros_like(mu), torch.ones_like(std))\n",
        "    q = torch.distributions.Normal(mu, std)\n",
        "\n",
        "    # 2. get the probabilities from the equation\n",
        "    log_qzx = q.log_prob(z)\n",
        "    log_pz = p.log_prob(z)\n",
        "\n",
        "    # kl\n",
        "    kl = (log_qzx - log_pz)\n",
        "\n",
        "    # sum over last dim to go from single dim distribution to multi-dim\n",
        "    kl = kl.sum(-1)\n",
        "    return kl"
      ],
      "metadata": {
        "id": "PdnbYwJznnr9"
      },
      "execution_count": 20,
      "outputs": []
    },
    {
      "cell_type": "code",
      "source": [
        "class UNet_plus(nn.Module):\n",
        "    def __init__(self, img_channels = 200, time_embedding_dims = 128, labels = False, sequence_channels = (64, 128, 256, 512)):\n",
        "        super().__init__()\n",
        "\n",
        "        self.time_embedding_dims = time_embedding_dims\n",
        "        sequence_channels_rev = reversed(sequence_channels)\n",
        "        \n",
        "        self.downsampling = nn.ModuleList([Block(channels_in, channels_out, time_embedding_dims, labels) for channels_in, channels_out in zip(sequence_channels, sequence_channels[1:])])\n",
        "        self.upsampling = nn.ModuleList([Block(channels_in, channels_out, time_embedding_dims, labels,downsample=False) for channels_in, channels_out in zip(sequence_channels[::-1], sequence_channels[::-1][1:])])\n",
        "        \n",
        "        #self.conv1 = nn.Conv2d(img_channels, sequence_channels[0], 3, padding=1)\n",
        "        self.lin1 = nn.Linear(img_channels, sequence_channels[0])\n",
        "        #self.conv2 = nn.Conv2d(sequence_channels[0], img_channels, 1)\n",
        "        #self.lin2 = nn.Linear(sequence_channels[0], img_channels)\n",
        "\n",
        "        self.mu = nn.Linear(sequence_channels[0], img_channels)\n",
        "        self.var = nn.Linear(sequence_channels[0], img_channels)\n",
        "    \n",
        "    def forward(self, x, t, **kwargs):\n",
        "\n",
        "        residuals = []\n",
        "        o = self.lin1(x)\n",
        "        \n",
        "        for ds in self.downsampling:\n",
        "            o = ds(o, t, **kwargs)\n",
        "            residuals.append(o)\n",
        "        \n",
        "        for us, res in zip(self.upsampling, reversed(residuals)):\n",
        "            o = us(torch.cat((o, res), dim=1), t, **kwargs)   \n",
        "        \n",
        "        #self.lin2(o)\n",
        "        \n",
        "        z_mu = self.mu(o)\n",
        "        z_var = self.var(o)\n",
        "\n",
        "        std = torch.exp(z_var / 2)\n",
        "        eps = torch.randn_like(std)\n",
        "        x_sample = eps.mul(std).add_(z_mu)\n",
        "\n",
        "        z = x_sample #torch.cat((x_sample,y), dim=1)\n",
        "\n",
        "        return z, z_mu, z_var"
      ],
      "metadata": {
        "id": "SsMyk_SFi1Nj"
      },
      "execution_count": 28,
      "outputs": []
    },
    {
      "cell_type": "code",
      "source": [
        "NO_EPOCHS = 1000\n",
        "PRINT_FREQUENCY = 500\n",
        "LR = 0.0001\n",
        "BATCH_SIZE = 2\n",
        "VERBOSE = True\n",
        "\n",
        "unet = UNet_plus(labels=False)\n",
        "unet.to(device)\n",
        "optimizer = torch.optim.Adam(unet.parameters(), lr=LR)"
      ],
      "metadata": {
        "id": "gmCKGYuySUjf",
        "colab": {
          "base_uri": "https://localhost:8080/"
        },
        "outputId": "1b3ca0a4-031e-4492-f98b-af184ce34df4"
      },
      "execution_count": 29,
      "outputs": [
        {
          "output_type": "stream",
          "name": "stdout",
          "text": [
            "Im him\n",
            "Im him\n",
            "Im him\n",
            "Im him\n",
            "Im him\n",
            "Im him\n"
          ]
        }
      ]
    },
    {
      "cell_type": "code",
      "source": [
        "def plot_noise_distribution(noise, predicted_noise):\n",
        "    plt.hist(noise.cpu().numpy().flatten(), density = True, alpha = 0.8, label = \"ground truth noise\")\n",
        "    plt.hist(predicted_noise.cpu().numpy().flatten(), density = True, alpha = 0.8, label = \"predicted noise\")\n",
        "    plt.legend()\n",
        "    plt.show()"
      ],
      "metadata": {
        "id": "sEao6ZishcSB"
      },
      "execution_count": 33,
      "outputs": []
    },
    {
      "cell_type": "code",
      "source": [
        "for epoch in range(5000):\n",
        "    mean_epoch_loss = []\n",
        "    \n",
        "    batch = torch.stack([inp] * BATCH_SIZE)\n",
        "    t = torch.randint(0, diffusion_model.timesteps, (BATCH_SIZE,)).long().to(device)\n",
        "\n",
        "    batch_noisy, noise = diffusion_model.forward(batch, t, device) \n",
        "\n",
        "    #predicted_noise = unet(batch_noisy, t)\n",
        "    z , z_mu, z_var = unet(batch_noisy, t)\n",
        "\n",
        "    predicted_noise = z\n",
        "    \n",
        "    optimizer.zero_grad()\n",
        "    #print('noise',noise)\n",
        "    #print('predicted_noise',predicted_noise)\n",
        "    kld = torch.mean(-0.5 * torch.sum(1 + z_var - z_mu ** 2 - z_var.exp(), dim = 1), dim = 0)\n",
        "    loss = kld #kl_divergence(z , z_mu, z_var) #torch.nn.functional.mse_loss(noise, predicted_noise) \n",
        "    mean_epoch_loss.append(loss.item())\n",
        "    loss.backward()\n",
        "    optimizer.step()\n",
        "    \n",
        "    if epoch % PRINT_FREQUENCY == 0:\n",
        "        print('---')\n",
        "        print(f\"Epoch: {epoch} | Train Loss {np.mean(mean_epoch_loss)}\")\n",
        "        if VERBOSE:\n",
        "            with torch.no_grad():\n",
        "                #plot_noise_prediction(noise[0], predicted_noise[0])\n",
        "                plot_noise_distribution(noise, predicted_noise)"
      ],
      "metadata": {
        "id": "Gq_z_LCJIfOa",
        "colab": {
          "base_uri": "https://localhost:8080/",
          "height": 1000
        },
        "outputId": "72e49835-5521-48a6-fedb-18916beb1979"
      },
      "execution_count": 48,
      "outputs": [
        {
          "output_type": "stream",
          "name": "stdout",
          "text": [
            "---\n",
            "Epoch: 0 | Train Loss 21.82010269165039\n"
          ]
        },
        {
          "output_type": "display_data",
          "data": {
            "text/plain": [
              "<Figure size 640x480 with 1 Axes>"
            ],
            "image/png": "[encoded data removed]"
          },
          "metadata": {}
        },
        {
          "output_type": "stream",
          "name": "stdout",
          "text": [
            "---\n",
            "Epoch: 500 | Train Loss 0.44627904891967773\n"
          ]
        },
        {
          "output_type": "display_data",
          "data": {
            "text/plain": [
              "<Figure size 640x480 with 1 Axes>"
            ],
            "image/png": "[encoded data removed]"
          },
          "metadata": {}
        },
        {
          "output_type": "stream",
          "name": "stdout",
          "text": [
            "---\n",
            "Epoch: 1000 | Train Loss 0.2846342921257019\n"
          ]
        },
        {
          "output_type": "display_data",
          "data": {
            "text/plain": [
              "<Figure size 640x480 with 1 Axes>"
            ],
            "image/png": "[encoded data removed]"
          },
          "metadata": {}
        },
        {
          "output_type": "stream",
          "name": "stdout",
          "text": [
            "---\n",
            "Epoch: 1500 | Train Loss 0.41811883449554443\n"
          ]
        },
        {
          "output_type": "display_data",
          "data": {
            "text/plain": [
              "<Figure size 640x480 with 1 Axes>"
            ],
            "image/png": "[encoded data removed]"
          },
          "metadata": {}
        },
        {
          "output_type": "stream",
          "name": "stdout",
          "text": [
            "---\n",
            "Epoch: 2000 | Train Loss 0.1561509221792221\n"
          ]
        },
        {
          "output_type": "display_data",
          "data": {
            "text/plain": [
              "<Figure size 640x480 with 1 Axes>"
            ],
            "image/png": "[encoded data removed]"
          },
          "metadata": {}
        },
        {
          "output_type": "stream",
          "name": "stdout",
          "text": [
            "---\n",
            "Epoch: 2500 | Train Loss 0.1089414656162262\n"
          ]
        },
        {
          "output_type": "display_data",
          "data": {
            "text/plain": [
              "<Figure size 640x480 with 1 Axes>"
            ],
            "image/png": "[encoded data removed]"
          },
          "metadata": {}
        },
        {
          "output_type": "stream",
          "name": "stdout",
          "text": [
            "---\n",
            "Epoch: 3000 | Train Loss 0.16458149254322052\n"
          ]
        },
        {
          "output_type": "display_data",
          "data": {
            "text/plain": [
              "<Figure size 640x480 with 1 Axes>"
            ],
            "image/png": "[encoded data removed]"
          },
          "metadata": {}
        },
        {
          "output_type": "stream",
          "name": "stdout",
          "text": [
            "---\n",
            "Epoch: 3500 | Train Loss 0.10332688689231873\n"
          ]
        },
        {
          "output_type": "display_data",
          "data": {
            "text/plain": [
              "<Figure size 640x480 with 1 Axes>"
            ],
            "image/png": "[encoded data removed]"
          },
          "metadata": {}
        },
        {
          "output_type": "stream",
          "name": "stdout",
          "text": [
            "---\n",
            "Epoch: 4000 | Train Loss 0.015014246106147766\n"
          ]
        },
        {
          "output_type": "display_data",
          "data": {
            "text/plain": [
              "<Figure size 640x480 with 1 Axes>"
            ],
            "image/png": "[encoded data removed]"
          },
          "metadata": {}
        },
        {
          "output_type": "stream",
          "name": "stdout",
          "text": [
            "---\n",
            "Epoch: 4500 | Train Loss 0.037463560700416565\n"
          ]
        },
        {
          "output_type": "display_data",
          "data": {
            "text/plain": [
              "<Figure size 640x480 with 1 Axes>"
            ],
            "image/png": "[encoded data removed]"
          },
          "metadata": {}
        }
      ]
    },
    {
      "cell_type": "code",
      "source": [
        "with torch.no_grad():\n",
        "    img = torch.randn(200).to(device)\n",
        "    for i in reversed(range(diffusion_model.timesteps)):\n",
        "        t = torch.full((1,), i, dtype=torch.long, device=device)\n",
        "        img = diffusion_model.backward(img, t, unet.eval())\n",
        "        if i % 50 == 0:\n",
        "            print('i',i)\n",
        "            print(img)"
      ],
      "metadata": {
        "colab": {
          "base_uri": "https://localhost:8080/"
        },
        "id": "Og2kqa4oqPNR",
        "outputId": "811e27c6-1ccc-4799-f93a-792fa2464167"
      },
      "execution_count": 49,
      "outputs": [
        {
          "output_type": "stream",
          "name": "stdout",
          "text": [
            "i 250\n",
            "tensor([[ 2.0669e+00, -2.4206e+00,  5.8005e-01,  4.5778e+00,  9.9723e-01,\n",
            "          9.0094e-01,  1.0216e+00, -9.9107e-01, -1.5655e+00, -2.2674e+00,\n",
            "          5.5236e-01, -3.0585e-01, -2.7445e-01,  7.0146e-01, -7.5525e-01,\n",
            "         -1.3270e+00,  9.4497e-01,  1.4703e-01,  2.2280e+00,  1.0640e+00,\n",
            "          2.5180e+00, -1.6564e+00, -1.2481e+00,  1.5431e-01, -4.2329e+00,\n",
            "         -1.8951e+00,  1.3151e+00,  5.0288e+00, -7.9642e-01, -2.6975e+00,\n",
            "          2.5295e+00, -3.5201e+00,  1.3684e+00,  3.4829e-01, -1.0591e+00,\n",
            "          1.1049e+00, -2.3734e+00, -1.4114e-01, -1.8937e+00, -2.1308e+00,\n",
            "          4.3112e-01, -2.6030e+00,  1.4298e+00,  3.3255e+00, -2.7664e+00,\n",
            "          8.1287e-01, -2.2869e-02, -5.5853e-01,  1.3397e+00,  9.2736e-01,\n",
            "          4.0916e-01,  2.4365e+00, -8.7872e-01, -3.3502e-02,  2.0772e+00,\n",
            "          1.4928e+00,  2.8774e+00, -1.6450e-01,  2.2163e+00,  4.3869e+00,\n",
            "         -2.1434e+00, -7.2046e-01, -8.7947e-01,  1.1160e+00,  2.6809e-03,\n",
            "          2.0970e+00,  3.9115e-01, -7.6754e-01,  1.4817e+00,  1.8668e+00,\n",
            "         -1.1046e+00,  3.0943e+00, -7.2504e-01,  3.6459e+00, -1.2092e+00,\n",
            "         -2.2758e-01,  1.6938e+00, -5.3513e-01, -1.5494e+00,  1.5874e+00,\n",
            "          5.2306e-01, -2.1908e+00, -2.3025e+00,  2.8403e+00, -2.6170e+00,\n",
            "          8.0624e-01,  1.8506e+00, -5.3983e-01, -1.3460e+00,  1.9487e+00,\n",
            "         -2.6942e+00, -1.3995e+00, -1.0496e+00, -2.7885e-01, -5.3015e+00,\n",
            "          2.6284e+00,  1.0601e+00,  8.1198e-02,  1.3618e+00,  7.0739e-01,\n",
            "          2.1633e-01,  2.8658e+00, -1.2813e+00, -2.4700e+00,  2.3358e-01,\n",
            "         -2.4228e+00, -2.5772e+00,  1.1756e+00, -1.3826e+00,  1.5623e+00,\n",
            "         -9.7436e-01, -4.1946e-01, -2.0879e+00,  2.4846e+00, -4.1318e+00,\n",
            "         -7.3810e-02,  2.2487e+00, -6.5547e-01, -6.4600e-01,  3.4192e+00,\n",
            "         -6.3543e-01, -1.0042e+00,  5.6628e-01, -1.1901e+00, -3.4075e-01,\n",
            "         -1.8980e+00,  2.9119e+00,  1.3232e+00, -1.6897e+00, -1.8857e+00,\n",
            "         -9.0156e-01,  3.2163e-01,  3.5987e+00,  1.0743e+00, -1.0919e+00,\n",
            "         -2.3022e-01, -2.0697e-01,  1.0323e+00,  2.2467e+00,  2.0734e+00,\n",
            "          2.4969e+00, -4.4971e+00,  2.9830e+00, -4.6450e-01, -2.3513e+00,\n",
            "         -2.6231e-01,  9.4972e-01, -1.6739e+00, -2.4582e+00, -1.6484e+00,\n",
            "         -7.2809e-01,  1.0269e+00, -2.4223e+00, -7.1328e-01,  1.8042e-02,\n",
            "         -2.5148e+00, -1.0486e+00,  2.9800e+00, -9.6684e-01, -5.9976e+00,\n",
            "         -5.5322e-02,  3.1590e-01,  1.1935e+00,  1.3902e+00,  1.0767e-01,\n",
            "          4.6115e-01, -1.3692e+00,  7.6400e-01, -1.2702e+00,  5.0360e-01,\n",
            "         -2.0342e+00, -2.8983e+00, -3.2460e-01,  4.1187e-02,  7.6117e-01,\n",
            "          1.7374e+00,  2.3334e+00,  4.2960e+00, -1.3740e+00, -2.5797e+00,\n",
            "          4.8442e-01, -1.1062e-02, -5.3397e-01, -1.0220e-01, -4.8315e-01,\n",
            "          1.1716e+00,  4.0076e+00,  3.0165e-01, -3.4595e+00,  7.5106e-01,\n",
            "         -1.1327e+00,  1.2339e+00,  3.5325e+00, -1.1328e-01, -2.2747e+00,\n",
            "          1.5795e+00, -3.6088e+00, -2.6359e+00,  5.4183e-01,  2.1291e+00]])\n",
            "i 200\n",
            "tensor([[ 2.4974, -3.4031, -0.6945,  7.0308,  2.0802,  2.0101,  2.7657, -2.7053,\n",
            "         -3.4083, -3.9138, -0.3497, -0.9301,  0.5542,  1.2111, -1.0267, -0.8016,\n",
            "          1.2081,  0.6592,  3.7741,  1.6702,  3.5918, -2.2652, -2.2375,  1.4049,\n",
            "         -6.1492, -3.2926,  0.1940,  9.0451, -1.6090, -2.9445,  3.2614, -7.1772,\n",
            "          1.4995,  0.5954, -1.2278,  1.2483, -4.0649,  0.2324, -3.9180, -1.1001,\n",
            "          0.6328, -2.6364,  0.6855,  6.8228, -3.1108,  0.8797, -0.2567, -1.9453,\n",
            "          3.4837, -0.1933,  1.0169,  3.3820, -1.1178,  0.9527,  3.1718,  3.0271,\n",
            "          4.7365,  0.1330,  2.8375,  4.5061, -3.5115, -1.6654, -1.8463,  0.2307,\n",
            "          0.5854,  3.6450, -0.3806, -0.4547,  1.8937,  5.0723, -0.1086,  5.3168,\n",
            "         -2.6913,  5.0302, -2.4186, -2.2151,  2.7698,  0.3019, -4.0274,  0.3558,\n",
            "          2.0974, -4.3329, -1.8978,  3.8779, -3.8223,  1.0789,  0.9801, -1.6635,\n",
            "         -1.5230,  0.8674, -5.2260,  0.6555, -2.2257, -1.6403, -7.7707,  5.5128,\n",
            "          0.8193,  0.1737,  2.0531,  1.8084,  0.4396,  4.7070, -1.3869, -4.5834,\n",
            "          1.4501, -3.3439, -5.0873,  3.4039, -3.6650,  3.7833, -2.2876, -1.3546,\n",
            "         -2.3179,  4.2598, -5.7746, -1.0547,  5.1975, -1.6869,  0.2075,  4.8708,\n",
            "         -3.4723, -0.7634,  1.3241,  0.9710,  1.4845, -3.5515,  4.6282,  1.3039,\n",
            "         -2.9512, -1.4072, -0.6007, -0.4254,  6.2404,  1.3246, -0.8456, -0.4742,\n",
            "          1.2213,  1.6565,  2.7748,  4.9728,  3.6337, -3.8615,  4.5494,  0.6420,\n",
            "         -5.5753,  1.0293,  0.2495, -2.4600, -4.0056, -3.4958, -0.4855,  3.3334,\n",
            "         -5.9347,  0.5127,  0.4895, -3.0672, -0.3426,  5.5438, -1.1620, -8.9749,\n",
            "         -0.5111, -0.1450,  2.4699,  3.5608, -0.1615,  0.4875, -0.8523,  0.4839,\n",
            "         -2.4266,  1.6736, -4.9214, -3.3067, -2.4529,  3.1346,  0.6016,  1.5054,\n",
            "          4.3828,  7.2085, -0.1703, -3.9879,  1.8636,  1.2147, -1.9158, -1.3074,\n",
            "         -0.5865,  1.6535,  5.6491,  0.8174, -5.0425,  2.6275, -0.8358,  3.0650,\n",
            "          4.4263,  1.5429, -3.2357,  2.1178, -5.5707, -2.3560,  0.0613,  2.1373]])\n",
            "i 150\n",
            "tensor([[ 2.9268e+00, -4.7568e+00, -1.9090e+00,  9.1300e+00,  3.1458e+00,\n",
            "          7.8580e-01,  4.8319e+00, -2.8801e+00, -3.9144e+00, -6.3946e+00,\n",
            "          1.8185e+00, -6.7771e-01, -2.4636e-01,  2.7682e+00, -1.8016e+00,\n",
            "         -9.9224e-01,  1.7909e+00,  1.2923e+00,  5.2516e+00,  3.8404e+00,\n",
            "          2.9653e+00, -6.6242e-01, -2.2713e+00,  1.8272e+00, -9.0415e+00,\n",
            "         -5.0245e+00,  1.1179e+00,  1.2817e+01, -3.5005e+00, -3.6405e+00,\n",
            "          5.7322e+00, -9.5464e+00,  1.4320e+00,  1.4105e+00, -2.1302e+00,\n",
            "          3.5662e+00, -5.9798e+00,  2.7475e-01, -6.3199e+00, -1.1044e+00,\n",
            "          1.9757e+00, -3.7988e+00,  2.5492e+00,  8.6522e+00, -3.5500e+00,\n",
            "          1.1721e+00,  2.3982e-01, -1.5296e+00,  4.5343e+00, -7.4930e-01,\n",
            "          1.0764e+00,  4.9389e+00, -2.9956e+00,  1.3971e+00,  3.4120e+00,\n",
            "          4.5836e+00,  8.1930e+00,  1.1344e+00,  3.8246e+00,  6.3968e+00,\n",
            "         -4.9209e+00, -2.1573e+00, -2.7571e+00,  1.1148e+00,  1.0717e+00,\n",
            "          5.0579e+00,  2.9012e-01, -4.7027e-02,  2.7273e+00,  7.4358e+00,\n",
            "         -2.7637e-01,  6.8874e+00, -3.7976e+00,  7.3191e+00, -4.4719e+00,\n",
            "         -2.6781e+00,  2.3247e+00,  1.3431e+00, -5.7434e+00,  5.9467e-01,\n",
            "          2.0911e+00, -5.3364e+00, -2.1056e+00,  4.2727e+00, -5.0280e+00,\n",
            "          2.0868e+00,  2.4241e+00, -1.9033e+00, -2.1906e+00,  3.6250e-01,\n",
            "         -9.2920e+00,  1.2115e+00, -4.0744e+00, -1.8698e+00, -1.0218e+01,\n",
            "          7.6176e+00,  4.4732e-01,  1.7438e+00,  2.3789e+00,  1.9008e+00,\n",
            "          9.3893e-01,  4.8510e+00, -1.0219e+00, -5.7926e+00,  2.4732e+00,\n",
            "         -4.2211e+00, -6.6189e+00,  5.9406e+00, -6.0221e+00,  5.0172e+00,\n",
            "         -2.2154e+00, -2.3288e+00, -2.1731e+00,  7.0641e+00, -8.6019e+00,\n",
            "         -2.2673e-01,  6.1283e+00, -1.5087e+00,  8.0812e-01,  6.8694e+00,\n",
            "         -6.3721e+00, -7.5070e-01,  2.5947e+00,  2.5300e+00,  1.3644e+00,\n",
            "         -4.5199e+00,  6.1609e+00,  1.8386e+00, -3.7676e+00, -4.3733e-01,\n",
            "         -1.6018e+00, -1.1482e+00,  9.9437e+00,  1.9879e+00, -4.7551e-01,\n",
            "         -7.2052e-01,  1.7902e+00,  1.2073e+00,  2.2843e+00,  7.0958e+00,\n",
            "          5.8361e+00, -6.6034e+00,  5.9824e+00,  1.8156e-03, -6.8583e+00,\n",
            "          2.3855e+00, -3.9104e-01, -4.8996e+00, -4.6103e+00, -4.2974e+00,\n",
            "          4.9739e-01,  3.7797e+00, -7.0999e+00,  1.3304e+00, -9.4990e-02,\n",
            "         -3.0875e+00, -1.4797e+00,  7.0088e+00, -2.8163e-01, -1.1853e+01,\n",
            "          5.5411e-01, -7.5323e-01,  2.2309e+00,  5.1349e+00, -1.6299e+00,\n",
            "          1.6261e-01, -1.4315e+00,  2.0874e+00, -3.3101e+00,  1.6487e+00,\n",
            "         -8.7787e+00, -6.6240e+00, -4.1131e+00,  2.9666e+00,  8.9005e-01,\n",
            "          2.2819e+00,  5.1471e+00,  8.2223e+00,  1.0459e+00, -6.4265e+00,\n",
            "          2.7184e+00,  3.6232e+00, -1.5799e+00, -2.7146e+00, -5.1581e-01,\n",
            "          1.8724e+00,  7.5242e+00, -9.2166e-02, -5.7740e+00,  2.8052e+00,\n",
            "         -2.3149e+00,  3.2353e+00,  5.1324e+00,  1.6101e+00, -5.7152e+00,\n",
            "          1.8669e+00, -8.0762e+00, -2.9922e+00, -1.2638e-01,  8.0891e-01]])\n",
            "i 100\n",
            "tensor([[  2.8810,  -6.5485,  -3.9885,  11.4147,   3.4169,  -0.2788,   6.0548,\n",
            "          -3.3953,  -3.9508,  -7.3063,   1.9001,  -0.2076,  -0.2402,   3.6399,\n",
            "          -1.6796,  -1.6241,   2.6874,   0.8761,   7.2775,   3.9975,   3.6965,\n",
            "          -0.7070,  -3.7160,   2.6093, -10.8014,  -7.2018,   1.3957,  15.1488,\n",
            "          -4.5889,  -4.6150,   6.1610, -12.5055,   1.7030,   1.9687,  -2.7912,\n",
            "           3.9117,  -6.2461,  -0.1109,  -7.8746,  -1.3584,   2.6971,  -3.6728,\n",
            "           2.8346,  11.4251,  -3.6308,   1.7489,   0.4201,  -1.6407,   4.6753,\n",
            "          -2.8603,   1.2459,   5.4362,  -3.5856,   2.3346,   5.4228,   5.3504,\n",
            "           9.0612,   1.0733,   4.6720,   7.8584,  -6.2836,  -2.8747,  -4.1280,\n",
            "           1.8470,   2.0024,   6.6002,   1.0236,  -0.8359,   3.9029,   9.2971,\n",
            "          -0.1009,   8.8099,  -4.6231,   9.1780,  -4.9296,  -1.7816,   4.0649,\n",
            "           1.5199,  -8.0408,   0.2096,   2.4477,  -6.9186,  -3.0373,   6.1349,\n",
            "          -6.7070,   2.5839,   3.0080,  -2.8537,  -2.8482,  -0.2964, -12.2242,\n",
            "           2.6234,  -5.8038,  -2.7906, -11.5363,   9.4950,   0.6280,   2.6624,\n",
            "           3.3288,   1.7087,   0.2161,   6.1397,  -0.4868,  -7.2678,   3.6647,\n",
            "          -5.3633,  -8.1705,   6.7665,  -7.3806,   6.6562,  -2.0149,  -3.1974,\n",
            "          -3.6447,   9.7798, -11.0359,  -0.5433,   7.4003,  -0.8341,   1.1108,\n",
            "           8.3832,  -8.6047,  -0.8513,   3.1096,   2.8752,   1.2926,  -4.9209,\n",
            "           8.3408,   2.1732,  -4.5252,   0.2014,  -2.5097,  -0.6535,  11.5850,\n",
            "           1.8040,  -1.3913,  -1.2034,   3.7644,   1.4800,   3.1393,   9.3334,\n",
            "           8.0489,  -8.7570,   7.2586,   0.3766,  -8.5927,   2.3898,  -0.9683,\n",
            "          -6.8215,  -5.2763,  -4.8668,   0.9177,   4.7748,  -8.3602,   1.0815,\n",
            "          -1.0008,  -4.9237,  -0.9281,   8.4206,   1.0264, -14.8151,  -0.2504,\n",
            "          -2.4560,   2.3005,   7.1334,  -0.4533,   0.2541,  -1.2119,   3.0699,\n",
            "          -3.8539,   2.2531, -11.0850,  -7.3138,  -4.7443,   3.0760,   1.0217,\n",
            "           4.7396,   6.6916,  10.0793,   0.7022,  -9.3456,   4.2549,   4.0083,\n",
            "          -2.3860,  -3.4502,   0.1079,   2.9818,   8.7730,  -0.5757,  -6.5350,\n",
            "           3.4532,  -2.3078,   4.3627,   7.7993,   1.0242,  -6.5120,   2.6320,\n",
            "         -10.3408,  -4.1864,   0.1647,   0.3640]])\n",
            "i 50\n",
            "tensor([[  2.8164,  -7.3981,  -4.0644,  12.6206,   3.8514,  -0.5427,   6.5115,\n",
            "          -3.9277,  -4.3782,  -8.2821,   1.6319,   0.5445,  -0.2800,   4.2648,\n",
            "          -2.6822,  -2.2529,   3.2377,   0.8770,   8.1650,   5.3072,   4.2526,\n",
            "          -0.1894,  -4.1872,   3.0691, -12.6820,  -9.2475,   0.9806,  17.1931,\n",
            "          -4.7696,  -4.5226,   6.5584, -14.5881,   2.1156,   2.0590,  -2.3123,\n",
            "           4.3119,  -6.8887,  -0.2201,  -9.0903,  -1.5719,   2.4275,  -4.4605,\n",
            "           2.4491,  12.7839,  -3.7952,   1.7919,   1.2253,  -0.7913,   5.9122,\n",
            "          -3.1065,   0.4251,   8.0135,  -3.5238,   3.3590,   5.3803,   5.9552,\n",
            "          10.9029,   2.0143,   5.1805,   8.7469,  -7.6760,  -3.1200,  -5.6227,\n",
            "           2.1564,   2.4292,   7.9808,   0.9109,  -0.6953,   4.7311,  10.1099,\n",
            "          -0.2127,   9.3685,  -5.1928,  10.7124,  -5.7396,  -1.4513,   4.7101,\n",
            "           1.6432,  -8.1543,  -0.0415,   2.9833,  -8.7360,  -3.8946,   6.9081,\n",
            "          -8.1843,   2.9091,   3.6278,  -2.5057,  -3.3002,   0.4064, -13.8109,\n",
            "           2.8980,  -7.7352,  -3.5318, -13.4067,  11.1415,   1.1307,   1.9390,\n",
            "           3.1797,   2.2284,  -0.2231,   7.2240,  -0.2691,  -7.5981,   4.9740,\n",
            "          -6.1943,  -9.4219,   8.1026,  -9.5280,   7.8630,  -0.7444,  -3.5397,\n",
            "          -4.9991,   9.9088, -13.2025,  -0.2980,   8.6311,  -1.0615,   1.0455,\n",
            "           9.7434,  -8.5902,  -1.6210,   4.4441,   2.7176,   1.9006,  -5.7355,\n",
            "           8.9341,   2.3539,  -5.1073,   0.2794,  -1.9351,  -1.1555,  13.5270,\n",
            "           1.5687,  -1.2886,  -1.7432,   4.4915,   1.5237,   4.4826,  11.4739,\n",
            "           9.8214,  -8.8879,   8.1039,   0.2710,  -9.5268,   3.9189,  -1.5417,\n",
            "          -7.7524,  -6.2158,  -5.5016,   1.0126,   5.4986,  -9.8640,   1.3566,\n",
            "          -1.4700,  -6.0821,  -0.8261,   9.8196,   1.0046, -17.3621,   1.2388,\n",
            "          -3.1382,   2.8884,   8.1329,  -0.8062,   0.5474,  -0.9224,   3.3847,\n",
            "          -3.8518,   2.2720, -11.5745,  -8.3401,  -5.3156,   4.2916,   0.9815,\n",
            "           5.2579,   8.8283,  10.5962,   1.0425, -10.1232,   5.3658,   4.4952,\n",
            "          -1.7646,  -3.3699,   0.8253,   3.7156,  10.8794,  -0.8358,  -6.9111,\n",
            "           3.1390,  -3.0851,   5.2792,   7.9048,   0.9331,  -7.1969,   3.6004,\n",
            "         -11.0386,  -5.6239,   1.1136,  -0.1994]])\n",
            "i 0\n",
            "tensor([[  2.8855,  -7.8788,  -3.8531,  13.0496,   4.1853,  -0.3865,   6.3045,\n",
            "          -3.9388,  -4.0978,  -9.0209,   1.9687,   0.3626,  -0.7863,   4.4711,\n",
            "          -2.8830,  -2.4650,   3.1217,   0.8674,   8.6084,   5.4456,   4.8538,\n",
            "          -0.2494,  -4.1307,   2.9029, -13.1606,  -9.5949,   1.4836,  18.5527,\n",
            "          -5.0343,  -4.9424,   6.9733, -14.8392,   2.2138,   2.6197,  -2.4721,\n",
            "           4.0321,  -6.8119,  -1.1280,  -9.8096,  -1.6245,   2.5339,  -4.4240,\n",
            "           2.4326,  13.2344,  -4.2212,   1.5275,   1.1426,  -0.6410,   6.3824,\n",
            "          -4.0152,   0.3746,   8.2630,  -3.3861,   3.4541,   5.8889,   6.2631,\n",
            "          11.4910,   2.1933,   5.6506,   9.2821,  -7.6613,  -3.2082,  -6.5869,\n",
            "           2.1533,   2.8313,   8.7507,   0.7061,  -0.5267,   4.9400,  10.7756,\n",
            "          -0.0920,   9.4279,  -5.2491,  11.3549,  -5.5650,  -1.4547,   5.0228,\n",
            "           1.7933,  -8.7506,  -0.0488,   3.7051,  -9.0874,  -4.3787,   7.4635,\n",
            "          -8.6978,   2.5916,   4.1772,  -2.3987,  -3.1938,   0.7008, -14.2866,\n",
            "           3.0279,  -8.5306,  -3.7918, -14.3586,  11.2034,   0.8262,   1.9655,\n",
            "           2.9480,   2.8555,  -0.3531,   7.0802,  -0.6072,  -7.4032,   5.2199,\n",
            "          -6.6561, -10.4016,   8.0715,  -9.9105,   8.3835,  -0.3783,  -3.3929,\n",
            "          -5.4711,  10.9063, -13.8998,  -0.2068,   8.9670,  -1.1396,   1.1834,\n",
            "          10.2799,  -8.7096,  -1.5369,   4.5368,   2.8996,   1.8699,  -5.9863,\n",
            "           9.2982,   2.3769,  -5.3936,  -0.3052,  -1.8475,  -1.1738,  13.8530,\n",
            "           1.6392,  -0.9578,  -2.2744,   4.5853,   1.7323,   4.3504,  11.8308,\n",
            "          10.2500,  -9.0333,   8.7425,   0.3605, -10.1006,   3.8852,  -1.4542,\n",
            "          -8.1331,  -6.3682,  -5.9821,   1.0196,   6.0662,  -9.8322,   1.4390,\n",
            "          -1.8965,  -6.5915,  -1.0694,  10.1383,   1.0576, -18.3733,   1.5554,\n",
            "          -3.1480,   2.4912,   8.2956,  -0.9592,   0.7340,  -1.1204,   3.4291,\n",
            "          -3.8973,   2.1873, -11.9219,  -9.0568,  -6.2112,   4.3464,   0.8584,\n",
            "           5.5314,   9.7653,  10.7179,   0.8525, -10.6586,   5.9381,   4.1614,\n",
            "          -1.4472,  -3.4114,   0.3283,   3.5694,  11.0071,  -0.8530,  -7.2742,\n",
            "           3.3005,  -3.3549,   5.2462,   8.9169,   0.9789,  -7.3860,   3.5530,\n",
            "         -11.4747,  -5.9585,   1.1963,   0.1026]])\n"
          ]
        }
      ]
    },
    {
      "cell_type": "code",
      "source": [],
      "metadata": {
        "id": "RlcfACfKQElM"
      },
      "execution_count": null,
      "outputs": []
    },
    {
      "cell_type": "code",
      "source": [],
      "metadata": {
        "id": "viwCPt6Jzdw4"
      },
      "execution_count": null,
      "outputs": []
    }
  ]
}